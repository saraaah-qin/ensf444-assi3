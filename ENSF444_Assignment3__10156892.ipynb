{
 "cells": [
  {
   "cell_type": "markdown",
   "id": "CNDKREiQRJJX",
   "metadata": {
    "id": "CNDKREiQRJJX"
   },
   "source": [
    "<font size=\"+3\"><b>Assignment 3: Non-Linear Models and Validation Metrics</b></font>\n",
    "\n",
    "***\n",
    "* **Full Name** = Sarah Qin\n",
    "* **UCID** = 10156892\n",
    "***"
   ]
  },
  {
   "cell_type": "markdown",
   "id": "ce31b39a",
   "metadata": {
    "id": "ce31b39a"
   },
   "source": [
    "<font color='Blue'>\n",
    "In this assignment, you will need to write code that uses non-linear models to perform classification and regression tasks. You will also be asked to describe the process by which you came up with the code. More details can be found below. Please cite any websites or AI tools that you used to help you with this assignment.\n",
    "</font>\n",
    "\n",
    "|                **Question**                | **Point** |\n",
    "|:------------------------------------------:|:---------:|\n",
    "|           **Part 1: Regression**           |  **14.5** |\n",
    "|          Step 0: Import Libraries          |           |\n",
    "|             Step 1: Data Input             |    0.5    |\n",
    "|           Step 2: Data Processing          |     0     |\n",
    "| Step 3: Implement   Machine Learning Model |    0.5    |\n",
    "|           Step 4: Validate Model           |    0.5    |\n",
    "|         Step 5: Visualize   Results        |     3     |\n",
    "|                  Questions                 |     6     |\n",
    "|             Process Description            |     4     |\n",
    "|         **Part 2: Classification**         |  **17.5** |\n",
    "|             Step 1: Data Input             |     2     |\n",
    "|           Step 2: Data Processing          |    1.5    |\n",
    "| Step 3: Implement   Machine Learning Model |           |\n",
    "|            Step 4: Validate Mode           |           |\n",
    "|         Step 5: Visualize   Results        |     4     |\n",
    "|                  Questions                 |     6     |\n",
    "|             Process Description            |     4     |\n",
    "|   **Part 3: Observations/Interpretation**  |   **3**   |\n",
    "|           **Part 4: Reflection**           |   **2**   |\n",
    "|                  **Total**                 |   **37**  |\n",
    "|                                            |           |\n",
    "|                  **Bonus**                 |           |\n",
    "|         **Part 5: Bonus Question**         |   **3**   |"
   ]
  },
  {
   "cell_type": "markdown",
   "id": "cf275ca7",
   "metadata": {
    "id": "cf275ca7"
   },
   "source": [
    "### Import Libraries"
   ]
  },
  {
   "cell_type": "code",
   "execution_count": 1,
   "id": "2b67a661",
   "metadata": {
    "ExecuteTime": {
     "end_time": "2024-02-27T01:32:36.450027Z",
     "start_time": "2024-02-27T01:32:36.446865Z"
    },
    "id": "2b67a661"
   },
   "outputs": [],
   "source": [
    "import numpy as np\n",
    "import pandas as pd\n",
    "import matplotlib.pyplot as plt\n",
    "import seaborn as sns"
   ]
  },
  {
   "cell_type": "markdown",
   "id": "5ee2d2c3",
   "metadata": {
    "id": "5ee2d2c3"
   },
   "source": [
    "# **Part 1: Regression (14.5 marks)**\n",
    "\n",
    "For this section, we will be continuing with the concrete example from yellowbrick. You will need to compare these results to the results from the previous assignment. Please use the results from the solution if you were unable to complete Assignment 2"
   ]
  },
  {
   "cell_type": "markdown",
   "id": "8219f163",
   "metadata": {
    "id": "8219f163"
   },
   "source": [
    "## **Step 1:** Data Input (0.5 marks)\n",
    "\n",
    "The data used for this task can be downloaded using the yellowbrick library:\n",
    "https://www.scikit-yb.org/en/latest/api/datasets/concrete.html\n",
    "\n",
    "Use the yellowbrick function `load_concrete()` to load the concrete dataset into the feature matrix `X` and target vector `y`."
   ]
  },
  {
   "cell_type": "code",
   "execution_count": 2,
   "id": "2af8bd32",
   "metadata": {
    "ExecuteTime": {
     "end_time": "2024-02-27T01:32:36.759252Z",
     "start_time": "2024-02-27T01:32:36.449572Z"
    },
    "id": "2af8bd32"
   },
   "outputs": [],
   "source": [
    "# TO DO: Import concrete dataset from yellowbrick library\n",
    "from yellowbrick.datasets import load_concrete\n",
    "\n",
    "X, y = load_concrete()\n"
   ]
  },
  {
   "cell_type": "markdown",
   "id": "42fea4cc",
   "metadata": {
    "id": "42fea4cc"
   },
   "source": [
    "## **Step 2:** Data Processing (0 marks)\n",
    "\n",
    "Data processing was completed in the previous assignment. No need to repeat here.\n",
    "\n",
    "<font color='red'>\n",
    "This is just for your information and no action is required from you for this step.\n",
    "</font>"
   ]
  },
  {
   "cell_type": "markdown",
   "id": "2a245d00",
   "metadata": {
    "id": "2a245d00"
   },
   "source": [
    "## **Step 3:** Implement Machine Learning Model (0.5 marks)\n",
    "\n",
    "1. Import the Decision Tree, Random Forest and Gradient Boosting Machines regression models from sklearn\n",
    "2. Instantiate the three models with `max_depth = 5`. Are there any other parameters that you will need to set?\n",
    "3. Implement each machine learning model with `X` and `y`"
   ]
  },
  {
   "cell_type": "markdown",
   "id": "3f994e31",
   "metadata": {
    "id": "3f994e31"
   },
   "source": [
    "## **Step 4:** Validate Model (0.5 marks)\n",
    "\n",
    "Calculate the average training and validation accuracy using mean squared error with cross-validation. To do this, you will need to set `scoring='neg_mean_squared_error'` in your `cross_validate` function and negate the results (multiply by -1)"
   ]
  },
  {
   "cell_type": "markdown",
   "id": "5fc3f7a8",
   "metadata": {
    "id": "5fc3f7a8"
   },
   "source": [
    "## **Step 5:** Visualize Results (3 marks)\n",
    "\n",
    "1. Create a pandas DataFrame `results` with columns: Training accuracy and Validation accuracy, and index: DT, RF and GB\n",
    "2. Add the accuracy results to the `results` DataFrame\n",
    "3. Print `results`"
   ]
  },
  {
   "cell_type": "code",
   "execution_count": 3,
   "id": "fdc93a78",
   "metadata": {
    "ExecuteTime": {
     "end_time": "2024-02-27T01:32:38.047150Z",
     "start_time": "2024-02-27T01:32:36.760629Z"
    },
    "id": "fdc93a78"
   },
   "outputs": [
    {
     "data": {
      "text/html": [
       "<div>\n",
       "<style scoped>\n",
       "    .dataframe tbody tr th:only-of-type {\n",
       "        vertical-align: middle;\n",
       "    }\n",
       "\n",
       "    .dataframe tbody tr th {\n",
       "        vertical-align: top;\n",
       "    }\n",
       "\n",
       "    .dataframe thead th {\n",
       "        text-align: right;\n",
       "    }\n",
       "</style>\n",
       "<table border=\"1\" class=\"dataframe\">\n",
       "  <thead>\n",
       "    <tr style=\"text-align: right;\">\n",
       "      <th></th>\n",
       "      <th>Training Accuracy</th>\n",
       "      <th>Validation Accuracy</th>\n",
       "    </tr>\n",
       "  </thead>\n",
       "  <tbody>\n",
       "    <tr>\n",
       "      <th>DT</th>\n",
       "      <td>47.918561</td>\n",
       "      <td>163.087775</td>\n",
       "    </tr>\n",
       "    <tr>\n",
       "      <th>RF</th>\n",
       "      <td>32.056464</td>\n",
       "      <td>156.251425</td>\n",
       "    </tr>\n",
       "    <tr>\n",
       "      <th>GB</th>\n",
       "      <td>3.739270</td>\n",
       "      <td>99.224576</td>\n",
       "    </tr>\n",
       "  </tbody>\n",
       "</table>\n",
       "</div>"
      ],
      "text/plain": [
       "    Training Accuracy  Validation Accuracy\n",
       "DT          47.918561           163.087775\n",
       "RF          32.056464           156.251425\n",
       "GB           3.739270            99.224576"
      ]
     },
     "execution_count": 3,
     "metadata": {},
     "output_type": "execute_result"
    }
   ],
   "source": [
    "# TO DO: ADD YOUR CODE HERE FOR STEPS 3-5\n",
    "# Note: for any random state parameters, you can use random_state = 0\n",
    "# HINT: USING A LOOP TO STORE THE DATA IN YOUR RESULTS DATAFRAME WILL BE MORE EFFICIENT\n",
    "from sklearn.tree import DecisionTreeRegressor\n",
    "from sklearn.ensemble import RandomForestRegressor\n",
    "from sklearn.ensemble import GradientBoostingRegressor\n",
    "from sklearn.model_selection import cross_validate\n",
    "\n",
    "models = {\n",
    "    'DT': DecisionTreeRegressor(max_depth=5, random_state=0), \n",
    "    'RF': RandomForestRegressor(max_depth=5,random_state=0), \n",
    "    'GB': GradientBoostingRegressor(max_depth=5,random_state=0)\n",
    "}\n",
    "\n",
    "results = { 'Training Accuracy': [], 'Validation Accuracy': []}\n",
    "\n",
    "for model in models:\n",
    "\n",
    "    score = cross_validate(models[model], X, y, scoring='neg_mean_squared_error', return_train_score=True)\n",
    "    train_score = score['train_score']\n",
    "    test_score = score['test_score']\n",
    "    results['Training Accuracy'].append(-train_score.mean())\n",
    "    results['Validation Accuracy'].append(-test_score.mean())\n",
    "\n",
    "results = pd.DataFrame(results, index= models.keys())\n",
    "    \n",
    "results\n"
   ]
  },
  {
   "cell_type": "markdown",
   "id": "31715a9d",
   "metadata": {
    "id": "31715a9d"
   },
   "source": [
    "Repeat the step above to print the R2 score instead of the mean-squared error. For this case, you can use `scoring='r2'`.\n",
    "\n",
    "<font color='red'>\n",
    "Due to the similarity of this to the main part of step 5, this part is 0.5 and the main part of step 5 is 2.5 of the total 3 points for this step.\n",
    "</font>"
   ]
  },
  {
   "cell_type": "code",
   "execution_count": 4,
   "id": "83539f47",
   "metadata": {
    "ExecuteTime": {
     "end_time": "2024-02-27T01:32:39.310212Z",
     "start_time": "2024-02-27T01:32:38.043815Z"
    },
    "id": "83539f47"
   },
   "outputs": [
    {
     "data": {
      "text/html": [
       "<div>\n",
       "<style scoped>\n",
       "    .dataframe tbody tr th:only-of-type {\n",
       "        vertical-align: middle;\n",
       "    }\n",
       "\n",
       "    .dataframe tbody tr th {\n",
       "        vertical-align: top;\n",
       "    }\n",
       "\n",
       "    .dataframe thead th {\n",
       "        text-align: right;\n",
       "    }\n",
       "</style>\n",
       "<table border=\"1\" class=\"dataframe\">\n",
       "  <thead>\n",
       "    <tr style=\"text-align: right;\">\n",
       "      <th></th>\n",
       "      <th>Training Accuracy</th>\n",
       "      <th>Validation Accuracy</th>\n",
       "    </tr>\n",
       "  </thead>\n",
       "  <tbody>\n",
       "    <tr>\n",
       "      <th>DT</th>\n",
       "      <td>0.822887</td>\n",
       "      <td>0.176210</td>\n",
       "    </tr>\n",
       "    <tr>\n",
       "      <th>RF</th>\n",
       "      <td>0.881218</td>\n",
       "      <td>0.174781</td>\n",
       "    </tr>\n",
       "    <tr>\n",
       "      <th>GB</th>\n",
       "      <td>0.986436</td>\n",
       "      <td>0.474425</td>\n",
       "    </tr>\n",
       "  </tbody>\n",
       "</table>\n",
       "</div>"
      ],
      "text/plain": [
       "    Training Accuracy  Validation Accuracy\n",
       "DT           0.822887             0.176210\n",
       "RF           0.881218             0.174781\n",
       "GB           0.986436             0.474425"
      ]
     },
     "execution_count": 4,
     "metadata": {},
     "output_type": "execute_result"
    }
   ],
   "source": [
    "# TO DO: ADD YOUR CODE HERE\n",
    "# This would be similar to the main step, the main difference is the scoring.\n",
    "\n",
    "models = {\n",
    "    'DT': DecisionTreeRegressor(max_depth=5, random_state=0), \n",
    "    'RF': RandomForestRegressor(max_depth=5,random_state=0), \n",
    "    'GB': GradientBoostingRegressor(max_depth=5,random_state=0)\n",
    "}\n",
    "\n",
    "results = { 'Training Accuracy': [], 'Validation Accuracy': []}\n",
    "\n",
    "for model in models:\n",
    "\n",
    "    score = cross_validate(models[model], X, y, scoring='r2', return_train_score=True)\n",
    "    train_score = score['train_score']\n",
    "    test_score = score['test_score']\n",
    "    results['Training Accuracy'].append(train_score.mean())\n",
    "    results['Validation Accuracy'].append(test_score.mean())\n",
    "\n",
    "results = pd.DataFrame(results, index= models.keys())\n",
    "    \n",
    "results"
   ]
  },
  {
   "cell_type": "markdown",
   "id": "a5257a98",
   "metadata": {
    "id": "a5257a98"
   },
   "source": [
    "## Questions (6 marks)\n",
    "1. How do these results compare to the results using a linear model in the previous assignment? Use values.\n",
    "1. Out of the models you tested, which model would you select for this dataset and why?\n",
    "1. If you wanted to increase the accuracy of the tree-based models, what would you do? Provide two suggestions."
   ]
  },
  {
   "cell_type": "markdown",
   "id": "2PRnpiFjVDzv",
   "metadata": {
    "id": "2PRnpiFjVDzv"
   },
   "source": [
    "<font color='Green'><b>\n",
    "1. Compared to the linear model conducted in the previous assignment, we obtained a higher training score using tree-based models than the linear model, with R2 scores ranging from 0.82 to 0.98 and 0.61 respectively. For validation accuracy, the tree-based models performed significantly worst than the linear model, with scores ranging from 0.17 to 0.47 and 0.62 respectively. Similar trend is also seen with the calculated MSE. \n",
    "1. I would use the gradient boosting model because it performed the best out of the models I tested. The smaller difference between training score and testing score we obtained from gradient boosting shows that there are less overfitting than the other two models.\n",
    "1. To increase the accuracy of tree-based models, we can adjust the hyperparameters (pre-pruning). Limiting the max features at each split adds more randomness and reduces noises in the model. Another way to increase accuracy is post-pruning, in which we collapse nodes that contains little information after the completion of the tree. \n",
    "\n",
    "</b></font>\n",
    "\n"
   ]
  },
  {
   "cell_type": "markdown",
   "id": "37b238f4",
   "metadata": {
    "id": "37b238f4"
   },
   "source": [
    "## Process Description (4 marks)\n",
    "Please describe the process you used to create your code. Cite any websites or generative AI tools used. You can use the following questions as guidance:\n",
    "1. Where did you source your code?\n",
    "1. In what order did you complete the steps?\n",
    "1. If you used generative AI, what prompts did you use? Did you need to modify the code at all? Why or why not?\n",
    "1. Did you have any challenges? If yes, what were they? If not, what helped you to be successful?"
   ]
  },
  {
   "cell_type": "markdown",
   "id": "93097bfe",
   "metadata": {
    "id": "93097bfe"
   },
   "source": [
    "<font color='Green'><b>\n",
    "1. I sourced my code from sklearn documentation for the tree-based models where it provided example code for how to use the model specified.\n",
    "1. I followed the steps as described above.\n",
    "1. I used ChatGPT to look for python syntax, like how to get key for a dictionary in python.\n",
    "1. The challenge was looking for the right cross validation function to right as sklearn used a different cross validation function. I figured I was using the wrong function upon comparing answers with friends, then I looked up the correct function to use. \n",
    "\n",
    "</b></font>"
   ]
  },
  {
   "cell_type": "markdown",
   "id": "f7c6de86",
   "metadata": {
    "id": "f7c6de86"
   },
   "source": [
    "# **Part 2: Classification (17.5 marks)**\n",
    "\n",
    "You have been asked to develop code that can help the user classify different wine samples. Following the machine learning workflow described in class, write the relevant code in each of the steps below:"
   ]
  },
  {
   "cell_type": "markdown",
   "id": "5f9d33a8",
   "metadata": {
    "id": "5f9d33a8"
   },
   "source": [
    "## **Step 1:** Data Input (2 marks)\n",
    "\n",
    "The data used for this task can be downloaded from UCI: https://archive.ics.uci.edu/dataset/109/wine\n",
    "\n",
    "Use the pandas library to load the dataset. You must define the column headers if they are not included in the dataset\n",
    "\n",
    "You will need to split the dataset into feature matrix `X` and target vector `y`. Which column represents the target vector?\n",
    "\n",
    "Print the size and type of `X` and `y`"
   ]
  },
  {
   "cell_type": "code",
   "execution_count": 5,
   "id": "33583c67",
   "metadata": {
    "ExecuteTime": {
     "end_time": "2024-02-27T01:32:39.737143Z",
     "start_time": "2024-02-27T01:32:39.310685Z"
    },
    "id": "33583c67"
   },
   "outputs": [
    {
     "name": "stdout",
     "output_type": "stream",
     "text": [
      "Size of X and y: \n",
      "2314 178\n",
      "Type of X and y: \n",
      "<class 'pandas.core.frame.DataFrame'> <class 'pandas.core.frame.DataFrame'>\n"
     ]
    }
   ],
   "source": [
    "# TO DO: Import wine dataset\n",
    "from ucimlrepo import fetch_ucirepo \n",
    "  \n",
    "# fetch dataset \n",
    "wine = fetch_ucirepo(id=109) \n",
    "  \n",
    "# data (as pandas dataframes) \n",
    "X = wine.data.features \n",
    "y = wine.data.targets \n",
    "\n",
    "print(\"Size of X and y: \")\n",
    "print(X.size, y.size)\n",
    "\n",
    "print(\"Type of X and y: \")\n",
    "print(type(X), type(y))\n"
   ]
  },
  {
   "cell_type": "markdown",
   "id": "156db208",
   "metadata": {
    "id": "156db208"
   },
   "source": [
    "## **Step 2:** Data Processing (1.5 marks)"
   ]
  },
  {
   "cell_type": "markdown",
   "id": "a28af110",
   "metadata": {
    "id": "a28af110"
   },
   "source": [
    "Print the first five rows of the dataset to inspect:"
   ]
  },
  {
   "cell_type": "code",
   "execution_count": 6,
   "id": "ea266921",
   "metadata": {
    "ExecuteTime": {
     "end_time": "2024-02-27T01:32:39.743696Z",
     "start_time": "2024-02-27T01:32:39.740483Z"
    },
    "id": "ea266921"
   },
   "outputs": [
    {
     "data": {
      "text/html": [
       "<div>\n",
       "<style scoped>\n",
       "    .dataframe tbody tr th:only-of-type {\n",
       "        vertical-align: middle;\n",
       "    }\n",
       "\n",
       "    .dataframe tbody tr th {\n",
       "        vertical-align: top;\n",
       "    }\n",
       "\n",
       "    .dataframe thead th {\n",
       "        text-align: right;\n",
       "    }\n",
       "</style>\n",
       "<table border=\"1\" class=\"dataframe\">\n",
       "  <thead>\n",
       "    <tr style=\"text-align: right;\">\n",
       "      <th></th>\n",
       "      <th>Alcohol</th>\n",
       "      <th>Malicacid</th>\n",
       "      <th>Ash</th>\n",
       "      <th>Alcalinity_of_ash</th>\n",
       "      <th>Magnesium</th>\n",
       "      <th>Total_phenols</th>\n",
       "      <th>Flavanoids</th>\n",
       "      <th>Nonflavanoid_phenols</th>\n",
       "      <th>Proanthocyanins</th>\n",
       "      <th>Color_intensity</th>\n",
       "      <th>Hue</th>\n",
       "      <th>0D280_0D315_of_diluted_wines</th>\n",
       "      <th>Proline</th>\n",
       "    </tr>\n",
       "  </thead>\n",
       "  <tbody>\n",
       "    <tr>\n",
       "      <th>0</th>\n",
       "      <td>14.23</td>\n",
       "      <td>1.71</td>\n",
       "      <td>2.43</td>\n",
       "      <td>15.6</td>\n",
       "      <td>127</td>\n",
       "      <td>2.80</td>\n",
       "      <td>3.06</td>\n",
       "      <td>0.28</td>\n",
       "      <td>2.29</td>\n",
       "      <td>5.64</td>\n",
       "      <td>1.04</td>\n",
       "      <td>3.92</td>\n",
       "      <td>1065</td>\n",
       "    </tr>\n",
       "    <tr>\n",
       "      <th>1</th>\n",
       "      <td>13.20</td>\n",
       "      <td>1.78</td>\n",
       "      <td>2.14</td>\n",
       "      <td>11.2</td>\n",
       "      <td>100</td>\n",
       "      <td>2.65</td>\n",
       "      <td>2.76</td>\n",
       "      <td>0.26</td>\n",
       "      <td>1.28</td>\n",
       "      <td>4.38</td>\n",
       "      <td>1.05</td>\n",
       "      <td>3.40</td>\n",
       "      <td>1050</td>\n",
       "    </tr>\n",
       "    <tr>\n",
       "      <th>2</th>\n",
       "      <td>13.16</td>\n",
       "      <td>2.36</td>\n",
       "      <td>2.67</td>\n",
       "      <td>18.6</td>\n",
       "      <td>101</td>\n",
       "      <td>2.80</td>\n",
       "      <td>3.24</td>\n",
       "      <td>0.30</td>\n",
       "      <td>2.81</td>\n",
       "      <td>5.68</td>\n",
       "      <td>1.03</td>\n",
       "      <td>3.17</td>\n",
       "      <td>1185</td>\n",
       "    </tr>\n",
       "    <tr>\n",
       "      <th>3</th>\n",
       "      <td>14.37</td>\n",
       "      <td>1.95</td>\n",
       "      <td>2.50</td>\n",
       "      <td>16.8</td>\n",
       "      <td>113</td>\n",
       "      <td>3.85</td>\n",
       "      <td>3.49</td>\n",
       "      <td>0.24</td>\n",
       "      <td>2.18</td>\n",
       "      <td>7.80</td>\n",
       "      <td>0.86</td>\n",
       "      <td>3.45</td>\n",
       "      <td>1480</td>\n",
       "    </tr>\n",
       "    <tr>\n",
       "      <th>4</th>\n",
       "      <td>13.24</td>\n",
       "      <td>2.59</td>\n",
       "      <td>2.87</td>\n",
       "      <td>21.0</td>\n",
       "      <td>118</td>\n",
       "      <td>2.80</td>\n",
       "      <td>2.69</td>\n",
       "      <td>0.39</td>\n",
       "      <td>1.82</td>\n",
       "      <td>4.32</td>\n",
       "      <td>1.04</td>\n",
       "      <td>2.93</td>\n",
       "      <td>735</td>\n",
       "    </tr>\n",
       "  </tbody>\n",
       "</table>\n",
       "</div>"
      ],
      "text/plain": [
       "   Alcohol  Malicacid   Ash  Alcalinity_of_ash  Magnesium  Total_phenols  \\\n",
       "0    14.23       1.71  2.43               15.6        127           2.80   \n",
       "1    13.20       1.78  2.14               11.2        100           2.65   \n",
       "2    13.16       2.36  2.67               18.6        101           2.80   \n",
       "3    14.37       1.95  2.50               16.8        113           3.85   \n",
       "4    13.24       2.59  2.87               21.0        118           2.80   \n",
       "\n",
       "   Flavanoids  Nonflavanoid_phenols  Proanthocyanins  Color_intensity   Hue  \\\n",
       "0        3.06                  0.28             2.29             5.64  1.04   \n",
       "1        2.76                  0.26             1.28             4.38  1.05   \n",
       "2        3.24                  0.30             2.81             5.68  1.03   \n",
       "3        3.49                  0.24             2.18             7.80  0.86   \n",
       "4        2.69                  0.39             1.82             4.32  1.04   \n",
       "\n",
       "   0D280_0D315_of_diluted_wines  Proline  \n",
       "0                          3.92     1065  \n",
       "1                          3.40     1050  \n",
       "2                          3.17     1185  \n",
       "3                          3.45     1480  \n",
       "4                          2.93      735  "
      ]
     },
     "execution_count": 6,
     "metadata": {},
     "output_type": "execute_result"
    }
   ],
   "source": [
    "# TO DO: ADD YOUR CODE HERE\n",
    "\n",
    "X.head()"
   ]
  },
  {
   "cell_type": "markdown",
   "id": "834fc8fe",
   "metadata": {
    "id": "834fc8fe"
   },
   "source": [
    "Check to see if there are any missing values in the dataset. If necessary, select an appropriate method to fill-in the missing values"
   ]
  },
  {
   "cell_type": "code",
   "execution_count": 7,
   "id": "97c6e9dc",
   "metadata": {
    "ExecuteTime": {
     "end_time": "2024-02-27T01:32:39.746049Z",
     "start_time": "2024-02-27T01:32:39.744730Z"
    },
    "id": "97c6e9dc"
   },
   "outputs": [
    {
     "name": "stdout",
     "output_type": "stream",
     "text": [
      "False\n"
     ]
    }
   ],
   "source": [
    "# TO DO: ADD YOUR CODE HERE\n",
    "\n",
    "print(X.isnull().values.any())"
   ]
  },
  {
   "cell_type": "markdown",
   "id": "070956af",
   "metadata": {
    "id": "070956af"
   },
   "source": [
    "How many samples do we have of each type of wine?"
   ]
  },
  {
   "cell_type": "code",
   "execution_count": 8,
   "id": "b37a6fd9",
   "metadata": {
    "ExecuteTime": {
     "end_time": "2024-02-27T01:32:39.751534Z",
     "start_time": "2024-02-27T01:32:39.746214Z"
    },
    "id": "b37a6fd9"
   },
   "outputs": [
    {
     "data": {
      "text/plain": [
       "class\n",
       "2        71\n",
       "1        59\n",
       "3        48\n",
       "Name: count, dtype: int64"
      ]
     },
     "execution_count": 8,
     "metadata": {},
     "output_type": "execute_result"
    }
   ],
   "source": [
    "# TO DO: ADD YOUR CODE HERE\n",
    "\n",
    "y.value_counts()"
   ]
  },
  {
   "cell_type": "markdown",
   "id": "70e6c46f",
   "metadata": {
    "id": "70e6c46f"
   },
   "source": [
    "## **Step 3:** Implement Machine Learning Model\n",
    "\n",
    "1. Import `SVC` and `DecisionTreeClassifier` from sklearn\n",
    "2. Instantiate models as `SVC()` and `DecisionTreeClassifier(max_depth = 3)`\n",
    "3. Implement the machine learning model with `X` and `y`"
   ]
  },
  {
   "cell_type": "markdown",
   "id": "0870b0d2",
   "metadata": {
    "id": "0870b0d2"
   },
   "source": [
    "## **Step 4:** Validate Model\n",
    "\n",
    "Calculate the average training and validation accuracy using `cross_validate` for the two different models listed in Step 3. For this case, use `scoring='accuracy'`"
   ]
  },
  {
   "cell_type": "markdown",
   "id": "bb0bbd83",
   "metadata": {
    "id": "bb0bbd83"
   },
   "source": [
    "## **Step 5:** Visualize Results (4 marks)\n",
    "\n",
    "<font color='red'>\n",
    "There is no individual mark for Steps 3 and 4 and those grades are included within the four points.\n",
    "\n",
    "</font>\n",
    "\n",
    "### **Step 5.1:** Compare Models (2 out of total 4 marks)\n",
    "1. Create a pandas DataFrame `results` with columns: Training accuracy and Validation accuracy\n",
    "2. Add the data size, training and validation accuracy for each dataset to the `results` DataFrame\n",
    "3. Print `results`"
   ]
  },
  {
   "cell_type": "code",
   "execution_count": 9,
   "id": "be4b5c0a",
   "metadata": {
    "ExecuteTime": {
     "end_time": "2024-02-27T01:32:39.814961Z",
     "start_time": "2024-02-27T01:32:39.753546Z"
    },
    "id": "be4b5c0a"
   },
   "outputs": [
    {
     "name": "stderr",
     "output_type": "stream",
     "text": [
      "/Users/sarahqin/anaconda3/lib/python3.11/site-packages/sklearn/utils/validation.py:1184: DataConversionWarning: A column-vector y was passed when a 1d array was expected. Please change the shape of y to (n_samples, ), for example using ravel().\n",
      "  y = column_or_1d(y, warn=True)\n",
      "/Users/sarahqin/anaconda3/lib/python3.11/site-packages/sklearn/utils/validation.py:1184: DataConversionWarning: A column-vector y was passed when a 1d array was expected. Please change the shape of y to (n_samples, ), for example using ravel().\n",
      "  y = column_or_1d(y, warn=True)\n",
      "/Users/sarahqin/anaconda3/lib/python3.11/site-packages/sklearn/utils/validation.py:1184: DataConversionWarning: A column-vector y was passed when a 1d array was expected. Please change the shape of y to (n_samples, ), for example using ravel().\n",
      "  y = column_or_1d(y, warn=True)\n",
      "/Users/sarahqin/anaconda3/lib/python3.11/site-packages/sklearn/utils/validation.py:1184: DataConversionWarning: A column-vector y was passed when a 1d array was expected. Please change the shape of y to (n_samples, ), for example using ravel().\n",
      "  y = column_or_1d(y, warn=True)\n",
      "/Users/sarahqin/anaconda3/lib/python3.11/site-packages/sklearn/utils/validation.py:1184: DataConversionWarning: A column-vector y was passed when a 1d array was expected. Please change the shape of y to (n_samples, ), for example using ravel().\n",
      "  y = column_or_1d(y, warn=True)\n"
     ]
    },
    {
     "data": {
      "text/html": [
       "<div>\n",
       "<style scoped>\n",
       "    .dataframe tbody tr th:only-of-type {\n",
       "        vertical-align: middle;\n",
       "    }\n",
       "\n",
       "    .dataframe tbody tr th {\n",
       "        vertical-align: top;\n",
       "    }\n",
       "\n",
       "    .dataframe thead th {\n",
       "        text-align: right;\n",
       "    }\n",
       "</style>\n",
       "<table border=\"1\" class=\"dataframe\">\n",
       "  <thead>\n",
       "    <tr style=\"text-align: right;\">\n",
       "      <th></th>\n",
       "      <th>Data Size</th>\n",
       "      <th>Training Accuracy</th>\n",
       "      <th>Validation Accuracy</th>\n",
       "    </tr>\n",
       "  </thead>\n",
       "  <tbody>\n",
       "    <tr>\n",
       "      <th>DTC</th>\n",
       "      <td>2314</td>\n",
       "      <td>0.974756</td>\n",
       "      <td>0.893175</td>\n",
       "    </tr>\n",
       "    <tr>\n",
       "      <th>SVC</th>\n",
       "      <td>2314</td>\n",
       "      <td>0.703743</td>\n",
       "      <td>0.663492</td>\n",
       "    </tr>\n",
       "  </tbody>\n",
       "</table>\n",
       "</div>"
      ],
      "text/plain": [
       "     Data Size  Training Accuracy  Validation Accuracy\n",
       "DTC       2314           0.974756             0.893175\n",
       "SVC       2314           0.703743             0.663492"
      ]
     },
     "execution_count": 9,
     "metadata": {},
     "output_type": "execute_result"
    }
   ],
   "source": [
    "# TO DO: ADD YOUR CODE HERE FOR STEPS 3-5\n",
    "# Note: for any random state parameters, you can use random_state = 0\n",
    "# HINT: USING A LOOP TO STORE THE DATA IN YOUR RESULTS DATAFRAME WILL BE MORE EFFICIENT\n",
    "\n",
    "from sklearn.tree import DecisionTreeClassifier\n",
    "from sklearn.svm import SVC, LinearSVC\n",
    "from sklearn.model_selection import cross_validate\n",
    "\n",
    "dtc = DecisionTreeClassifier(max_depth=3, random_state=0)\n",
    "svc = SVC(random_state=0)\n",
    "\n",
    "results = { 'Data Size':[], 'Training Accuracy': [], 'Validation Accuracy': []}\n",
    "\n",
    "dtc_score = cross_validate(dtc, X, y, scoring='accuracy', return_train_score=True)    \n",
    "dtc_train_score = dtc_score['train_score']\n",
    "dtc_test_score = dtc_score['test_score']\n",
    "\n",
    "results['Data Size'].append(X.size)\n",
    "results['Training Accuracy'].append(dtc_train_score.mean())\n",
    "results['Validation Accuracy'].append(dtc_test_score.mean())\n",
    "\n",
    "svc_score = cross_validate(svc, X, y, scoring='accuracy', return_train_score=True)\n",
    "svc_train_score = svc_score['train_score']\n",
    "svc_test_score = svc_score['test_score']\n",
    "\n",
    "results['Data Size'].append(X.size)\n",
    "results['Training Accuracy'].append(svc_train_score.mean())\n",
    "results['Validation Accuracy'].append(svc_test_score.mean())\n",
    "\n",
    "new_results = results\n",
    "\n",
    "results = pd.DataFrame(results, index= ['DTC', 'SVC'])\n",
    "\n",
    "results\n"
   ]
  },
  {
   "cell_type": "markdown",
   "id": "f2e17878",
   "metadata": {
    "id": "f2e17878"
   },
   "source": [
    "### **Step 5.2:** Visualize Classification Errors  (2 out of total 4 marks)\n",
    "Which method gave the highest accuracy? Use this method to print the confusion matrix and classification report:"
   ]
  },
  {
   "cell_type": "code",
   "execution_count": 10,
   "id": "44b091a4",
   "metadata": {
    "ExecuteTime": {
     "end_time": "2024-02-27T01:32:39.835434Z",
     "start_time": "2024-02-27T01:32:39.800040Z"
    },
    "id": "44b091a4"
   },
   "outputs": [],
   "source": [
    "# TO DO: Implement best model\n",
    "\n",
    "from sklearn.metrics import confusion_matrix\n",
    "from sklearn.model_selection import train_test_split\n",
    "\n",
    "X_train, X_test, y_train, y_test = train_test_split(X, y, test_size=0.2, random_state=0)\n",
    "\n",
    "new_dtc = DecisionTreeClassifier(max_depth=3, random_state=0)\n",
    "\n",
    "new_dtc.fit(X_train, y_train)\n",
    "\n",
    "y_pred = new_dtc.predict(X_test)\n",
    "confusion = confusion_matrix(y_test, y_pred)\n"
   ]
  },
  {
   "cell_type": "code",
   "execution_count": 11,
   "id": "09d21b59",
   "metadata": {
    "ExecuteTime": {
     "end_time": "2024-02-27T01:32:39.915725Z",
     "start_time": "2024-02-27T01:32:39.806601Z"
    },
    "id": "09d21b59"
   },
   "outputs": [
    {
     "data": {
      "image/png": "[encoded data removed]",
      "text/plain": [
       "<Figure size 800x550 with 2 Axes>"
      ]
     },
     "metadata": {},
     "output_type": "display_data"
    }
   ],
   "source": [
    "# TO DO: Print confusion matrix using a heatmap\n",
    "\n",
    "sns.heatmap(confusion, annot=True, fmt='d')\n",
    "plt.xlabel('Predicted')\n",
    "plt.ylabel('Actual')\n",
    "plt.show()"
   ]
  },
  {
   "cell_type": "code",
   "execution_count": 12,
   "id": "5ef95947",
   "metadata": {
    "ExecuteTime": {
     "end_time": "2024-02-27T01:32:39.916853Z",
     "start_time": "2024-02-27T01:32:39.906308Z"
    },
    "id": "5ef95947"
   },
   "outputs": [
    {
     "name": "stdout",
     "output_type": "stream",
     "text": [
      "              precision    recall  f1-score   support\n",
      "\n",
      "           1       0.93      1.00      0.97        14\n",
      "           2       1.00      0.94      0.97        16\n",
      "           3       1.00      1.00      1.00         6\n",
      "\n",
      "    accuracy                           0.97        36\n",
      "   macro avg       0.98      0.98      0.98        36\n",
      "weighted avg       0.97      0.97      0.97        36\n"
     ]
    }
   ],
   "source": [
    "# TO DO: Print classification report\n",
    "\n",
    "from sklearn.metrics import classification_report\n",
    "\n",
    "print(classification_report(y_test, y_pred))"
   ]
  },
  {
   "cell_type": "markdown",
   "id": "bf319621",
   "metadata": {
    "id": "bf319621"
   },
   "source": [
    "## Questions (6 marks)\n",
    "1. How do the training and validation accuracy change depending on the method used? Explain with values.\n",
    "1. What are two reasons why the support vector machines model did not work as well as the tree-based model?\n",
    "1. How many samples were incorrectly classified in step 5.2?\n",
    "1. In this case, is maximizing precision or recall more important? Why?"
   ]
  },
  {
   "cell_type": "markdown",
   "id": "1FQstcwnXXng",
   "metadata": {
    "id": "1FQstcwnXXng"
   },
   "source": [
    "\n",
    "<font color='Green'><b>\n",
    "1. We can see that decision tree model performed better than the SVC model overall. The training accuracy for decision tree is 0.97 and 0.70 for SVM model. Similarly, the validation accuracy for decision tree is 0.89 and 0.66 for SVM model. \n",
    "1. The two reasons that SVM model does not perform well as the tree-based model are because SVM model is very sensitive that it requires preprocessing of data and hyperparameter tuning. Neither preprocessing or hyperparameter tuning was done in the previous steps. \n",
    "1. One sample was incorrectly classfied in Step 5.2\n",
    "1. Maximizing precision is more important because we want to take false positives into account. We want to see a higher score in wine that predicted with a class and actually end up in that class than the true positive rate for those been classified.  \n",
    "\n",
    "\n",
    "</b></font>\n"
   ]
  },
  {
   "cell_type": "markdown",
   "id": "664ff8ae",
   "metadata": {
    "id": "664ff8ae"
   },
   "source": [
    "## Process Description (4 marks)\n",
    "Please describe the process you used to create your code. Cite any websites or generative AI tools used. You can use the following questions as guidance:\n",
    "1. Where did you source your code?\n",
    "1. In what order did you complete the steps?\n",
    "1. If you used generative AI, what prompts did you use? Did you need to modify the code at all? Why or why not?\n",
    "1. Did you have any challenges? If yes, what were they? If not, what helped you to be successful?"
   ]
  },
  {
   "cell_type": "markdown",
   "id": "d0e837da",
   "metadata": {
    "id": "d0e837da"
   },
   "source": [
    "<font color='Green'><b>\n",
    "1. I got my source code from the sklearn documentations for the tree-based model, SVM model, confusion matrix, and classification report.\n",
    "1. I followed the steps as described above. \n",
    "1. I did not use generative AI becuase the procedure is very similar to the previous task, so I was able work through it without asking generative AI for syntax.\n",
    "1. No because all I had to change was this is very similar to the first task but with different models. \n",
    "\n",
    "</b></font>"
   ]
  },
  {
   "cell_type": "markdown",
   "id": "4cd7358d",
   "metadata": {
    "id": "4cd7358d"
   },
   "source": [
    "# **Part 3: Observations/Interpretation (3 marks)**\n",
    "\n",
    "Describe any pattern you see in the results. Relate your findings to what we discussed during lectures. Include data to justify your findings."
   ]
  },
  {
   "cell_type": "markdown",
   "id": "F3ifv218XL62",
   "metadata": {
    "id": "F3ifv218XL62"
   },
   "source": [
    "<font color='Green'><b>\n",
    "For the tree-based models, we can see results were produced by high-variance models because they all performed very well for the training set, but very poorly on the validation set. For example, the training and validation scores for decision tree regression were 0.82 and 0.18 respectively. The large differences between testing set and validation set seen across all three tree-based models implies that the tree-based models overfitted the concrete dataset as they are too flexible for this dataset. Although the tree-based models overfitted the dataset, the gradient boosting model performed the best out of the three models with a training and validation scores of 0.986 and 0.474 respectively. \n",
    "\n",
    "Alternatively, when comparing tree-based model with SVM mode with the wine dataset, the tree-based model performed better than SVM model with validation and testing scores of 0.97 vs 0.70 and 0.89 vs 0.66 respectively. This can be due to the fact that SVM is very sensitive with data and requires data preprocessing which was not performed in this assignment. \n",
    "</b></font>"
   ]
  },
  {
   "cell_type": "markdown",
   "id": "cd97b6ac",
   "metadata": {
    "id": "cd97b6ac"
   },
   "source": [
    "## **Part 4:** Reflection (2 marks)\n",
    "Include a sentence or two about:\n",
    "- what you liked or disliked,\n",
    "- found interesting, confusing, challangeing, motivating\n",
    "while working on this assignment."
   ]
  },
  {
   "cell_type": "markdown",
   "id": "tDFYc89YXQGJ",
   "metadata": {
    "id": "tDFYc89YXQGJ"
   },
   "source": [
    "<font color='Green'><b>\n",
    "I really like that we get to compare the different tree-based models we learned in class and to see the differences in accuracy. In addition to this, I also like that we compared the two different types of non-linear models to see how they each work. I learned a lot by actually seeing how each model operates and we need to analyze the data to our own understanding. It is somehow confusing because colleagues have different interpretations of certain steps of the tasks and that fosters healthy debates around the topic. \n",
    "</b></font>"
   ]
  },
  {
   "cell_type": "markdown",
   "id": "fa21e53b",
   "metadata": {
    "id": "fa21e53b"
   },
   "source": [
    "## **Part 5:** Bonus Question (3 marks)\n",
    "\n",
    "Repeat Part 2 and compare the support vector machines model used to `LinearSVC(max_iter=5000)`. Does using `LinearSVC` improve the results? Why or why not?\n",
    "\n",
    "Is `LinearSVC` a good fit for this dataset? Why or why not?"
   ]
  },
  {
   "cell_type": "code",
   "execution_count": 13,
   "id": "30fea72e",
   "metadata": {
    "ExecuteTime": {
     "end_time": "2024-02-27T01:32:40.284468Z",
     "start_time": "2024-02-27T01:32:39.913579Z"
    },
    "id": "30fea72e"
   },
   "outputs": [
    {
     "name": "stderr",
     "output_type": "stream",
     "text": [
      "/Users/sarahqin/anaconda3/lib/python3.11/site-packages/sklearn/utils/validation.py:1184: DataConversionWarning: A column-vector y was passed when a 1d array was expected. Please change the shape of y to (n_samples, ), for example using ravel().\n",
      "  y = column_or_1d(y, warn=True)\n",
      "/Users/sarahqin/anaconda3/lib/python3.11/site-packages/sklearn/svm/_classes.py:32: FutureWarning: The default value of `dual` will change from `True` to `'auto'` in 1.5. Set the value of `dual` explicitly to suppress the warning.\n",
      "  warnings.warn(\n",
      "/Users/sarahqin/anaconda3/lib/python3.11/site-packages/sklearn/svm/_base.py:1242: ConvergenceWarning: Liblinear failed to converge, increase the number of iterations.\n",
      "  warnings.warn(\n",
      "/Users/sarahqin/anaconda3/lib/python3.11/site-packages/sklearn/utils/validation.py:1184: DataConversionWarning: A column-vector y was passed when a 1d array was expected. Please change the shape of y to (n_samples, ), for example using ravel().\n",
      "  y = column_or_1d(y, warn=True)\n",
      "/Users/sarahqin/anaconda3/lib/python3.11/site-packages/sklearn/svm/_classes.py:32: FutureWarning: The default value of `dual` will change from `True` to `'auto'` in 1.5. Set the value of `dual` explicitly to suppress the warning.\n",
      "  warnings.warn(\n",
      "/Users/sarahqin/anaconda3/lib/python3.11/site-packages/sklearn/svm/_base.py:1242: ConvergenceWarning: Liblinear failed to converge, increase the number of iterations.\n",
      "  warnings.warn(\n",
      "/Users/sarahqin/anaconda3/lib/python3.11/site-packages/sklearn/utils/validation.py:1184: DataConversionWarning: A column-vector y was passed when a 1d array was expected. Please change the shape of y to (n_samples, ), for example using ravel().\n",
      "  y = column_or_1d(y, warn=True)\n",
      "/Users/sarahqin/anaconda3/lib/python3.11/site-packages/sklearn/svm/_classes.py:32: FutureWarning: The default value of `dual` will change from `True` to `'auto'` in 1.5. Set the value of `dual` explicitly to suppress the warning.\n",
      "  warnings.warn(\n",
      "/Users/sarahqin/anaconda3/lib/python3.11/site-packages/sklearn/svm/_base.py:1242: ConvergenceWarning: Liblinear failed to converge, increase the number of iterations.\n",
      "  warnings.warn(\n",
      "/Users/sarahqin/anaconda3/lib/python3.11/site-packages/sklearn/utils/validation.py:1184: DataConversionWarning: A column-vector y was passed when a 1d array was expected. Please change the shape of y to (n_samples, ), for example using ravel().\n",
      "  y = column_or_1d(y, warn=True)\n",
      "/Users/sarahqin/anaconda3/lib/python3.11/site-packages/sklearn/svm/_classes.py:32: FutureWarning: The default value of `dual` will change from `True` to `'auto'` in 1.5. Set the value of `dual` explicitly to suppress the warning.\n",
      "  warnings.warn(\n",
      "/Users/sarahqin/anaconda3/lib/python3.11/site-packages/sklearn/svm/_base.py:1242: ConvergenceWarning: Liblinear failed to converge, increase the number of iterations.\n",
      "  warnings.warn(\n",
      "/Users/sarahqin/anaconda3/lib/python3.11/site-packages/sklearn/utils/validation.py:1184: DataConversionWarning: A column-vector y was passed when a 1d array was expected. Please change the shape of y to (n_samples, ), for example using ravel().\n",
      "  y = column_or_1d(y, warn=True)\n",
      "/Users/sarahqin/anaconda3/lib/python3.11/site-packages/sklearn/svm/_classes.py:32: FutureWarning: The default value of `dual` will change from `True` to `'auto'` in 1.5. Set the value of `dual` explicitly to suppress the warning.\n",
      "  warnings.warn(\n",
      "/Users/sarahqin/anaconda3/lib/python3.11/site-packages/sklearn/svm/_base.py:1242: ConvergenceWarning: Liblinear failed to converge, increase the number of iterations.\n",
      "  warnings.warn(\n"
     ]
    },
    {
     "data": {
      "text/html": [
       "<div>\n",
       "<style scoped>\n",
       "    .dataframe tbody tr th:only-of-type {\n",
       "        vertical-align: middle;\n",
       "    }\n",
       "\n",
       "    .dataframe tbody tr th {\n",
       "        vertical-align: top;\n",
       "    }\n",
       "\n",
       "    .dataframe thead th {\n",
       "        text-align: right;\n",
       "    }\n",
       "</style>\n",
       "<table border=\"1\" class=\"dataframe\">\n",
       "  <thead>\n",
       "    <tr style=\"text-align: right;\">\n",
       "      <th></th>\n",
       "      <th>Data Size</th>\n",
       "      <th>Training Accuracy</th>\n",
       "      <th>Validation Accuracy</th>\n",
       "    </tr>\n",
       "  </thead>\n",
       "  <tbody>\n",
       "    <tr>\n",
       "      <th>DTC</th>\n",
       "      <td>2314</td>\n",
       "      <td>0.974756</td>\n",
       "      <td>0.893175</td>\n",
       "    </tr>\n",
       "    <tr>\n",
       "      <th>SVC</th>\n",
       "      <td>2314</td>\n",
       "      <td>0.703743</td>\n",
       "      <td>0.663492</td>\n",
       "    </tr>\n",
       "    <tr>\n",
       "      <th>LinearSVC</th>\n",
       "      <td>2314</td>\n",
       "      <td>0.880725</td>\n",
       "      <td>0.921746</td>\n",
       "    </tr>\n",
       "  </tbody>\n",
       "</table>\n",
       "</div>"
      ],
      "text/plain": [
       "           Data Size  Training Accuracy  Validation Accuracy\n",
       "DTC             2314           0.974756             0.893175\n",
       "SVC             2314           0.703743             0.663492\n",
       "LinearSVC       2314           0.880725             0.921746"
      ]
     },
     "execution_count": 13,
     "metadata": {},
     "output_type": "execute_result"
    }
   ],
   "source": [
    "# TO DO: ADD YOUR CODE HERE\n",
    "from sklearn.svm import LinearSVC\n",
    "\n",
    "linearSVC = LinearSVC(max_iter=5000, random_state=0)\n",
    "\n",
    "linearSVC_score = cross_validate(linearSVC, X, y, scoring='accuracy', return_train_score=True)\n",
    "linearSVC_train_score = linearSVC_score['train_score']\n",
    "linearSVC_test_score = linearSVC_score['test_score']\n",
    "\n",
    "new_results['Data Size'].append(X.size)\n",
    "new_results['Training Accuracy'].append(linearSVC_train_score.mean())\n",
    "new_results['Validation Accuracy'].append(linearSVC_test_score.mean())\n",
    "\n",
    "new_results = pd.DataFrame(new_results, index= ['DTC', 'SVC','LinearSVC'])\n",
    "\n",
    "new_results\n"
   ]
  },
  {
   "cell_type": "markdown",
   "id": "aabc68a4",
   "metadata": {
    "id": "aabc68a4"
   },
   "source": [
    "<font color='Green'><b>\n",
    "LinearSVC performed better than SVC but still worse than decision tree classification. LinearSVC performed better than SVC because it is more flexible with the loss function which allows it to scale the sample better. It still performed worse than decision tree classification because it is still a SVM model, in which preprocessing of data is crucial for its performance.\n",
    "\n",
    "I would say LinearSVC is a good fit for this model because it achieved higher validation score which is what we want to see with training models. \n",
    "</b></font>"
   ]
  }
 ],
 "metadata": {
  "colab": {
   "provenance": []
  },
  "kernelspec": {
   "display_name": "Python 3 (ipykernel)",
   "language": "python",
   "name": "python3"
  },
  "language_info": {
   "codemirror_mode": {
    "name": "ipython",
    "version": 3
   },
   "file_extension": ".py",
   "mimetype": "text/x-python",
   "name": "python",
   "nbconvert_exporter": "python",
   "pygments_lexer": "ipython3",
   "version": "3.11.0"
  }
 },
 "nbformat": 4,
 "nbformat_minor": 5
}
